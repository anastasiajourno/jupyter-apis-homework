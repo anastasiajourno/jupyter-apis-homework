{
 "cells": [
  {
   "cell_type": "markdown",
   "metadata": {},
   "source": [
    "# WeatherAPI (Weather)\n",
    "\n",
    "Answer the following questions using [WeatherAPI](http://www.weatherapi.com/). I've added three cells for most questions but you're free to use more or less! Hold `Shift` and hit `Enter` to run a cell, and use the `+` on the top left to add a new cell to a notebook.\n",
    "\n",
    "Be sure to take advantage of both the documentation and the API Explorer!\n",
    "\n",
    "## 0) Import any libraries you might need\n",
    "\n",
    "- *Tip: We're going to be downloading things from the internet, so we probably need `requests`.*\n",
    "- *Tip: Remember you only need to import requests once!*"
   ]
  },
  {
   "cell_type": "code",
   "execution_count": 2,
   "metadata": {},
   "outputs": [],
   "source": [
    "import requests"
   ]
  },
  {
   "cell_type": "markdown",
   "metadata": {
    "collapsed": true
   },
   "source": [
    "## 1) Make a request to the Weather API for where you were born (or lived, or want to visit!).\n",
    "\n",
    "- *Tip: This sure seems familiar.*"
   ]
  },
  {
   "cell_type": "code",
   "execution_count": 5,
   "metadata": {},
   "outputs": [],
   "source": [
    "response = requests.get(\"http://api.weatherapi.com/v1/current.json?key=1d60958870524489bdc104201211706&q=Moscow&aqi=no\")"
   ]
  },
  {
   "cell_type": "code",
   "execution_count": 6,
   "metadata": {},
   "outputs": [],
   "source": [
    "data = response.json()"
   ]
  },
  {
   "cell_type": "code",
   "execution_count": 39,
   "metadata": {},
   "outputs": [
    {
     "name": "stdout",
     "output_type": "stream",
     "text": [
      " The temperature in Moscow is 28.0\n"
     ]
    }
   ],
   "source": [
    "print (f\" The temperature in Moscow is {data['current']['temp_c']}\")"
   ]
  },
  {
   "cell_type": "markdown",
   "metadata": {},
   "source": [
    "## 2) What's the current wind speed, and how much warmer does it feel than it actually is?\n",
    "\n",
    "- *Tip: You can do this by browsing through the dictionaries, but it might be easier to read the documentation*\n",
    "- *Tip: For the second half: it **is** one temperature, and it **feels** a different temperature. Calculate the difference. Same as we did last time!*"
   ]
  },
  {
   "cell_type": "code",
   "execution_count": 13,
   "metadata": {},
   "outputs": [
    {
     "name": "stdout",
     "output_type": "stream",
     "text": [
      "6.8\n"
     ]
    }
   ],
   "source": [
    "print(data['current'][\"wind_kph\"])"
   ]
  },
  {
   "cell_type": "code",
   "execution_count": 14,
   "metadata": {},
   "outputs": [],
   "source": [
    "current_temp = data['current']['temp_c']\n",
    "feels_temp = data['current']['feelslike_c']"
   ]
  },
  {
   "cell_type": "code",
   "execution_count": 16,
   "metadata": {},
   "outputs": [
    {
     "name": "stdout",
     "output_type": "stream",
     "text": [
      "It feels 2 degrees warmer\n"
     ]
    }
   ],
   "source": [
    "if feels_temp > current_temp:\n",
    "    print (\"It feels\", round(feels_temp-current_temp), \"degrees warmer\")\n",
    "else:\n",
    "    print (\"It feels\", round(current_temp-feels_temp), \"degrees colder\")"
   ]
  },
  {
   "cell_type": "markdown",
   "metadata": {},
   "source": [
    "## 3) What is the API endpoint for moon-related information? For the place you decided on above, how much of the moon will be visible on next Thursday?\n",
    "\n",
    "- *Tip: Check the documentation!*\n",
    "- *Tip: If you aren't sure what something means, ask in Slack*"
   ]
  },
  {
   "cell_type": "code",
   "execution_count": null,
   "metadata": {},
   "outputs": [],
   "source": [
    "#/astronomy.json \n",
    "#but for next Thursday, I need forecast API"
   ]
  },
  {
   "cell_type": "code",
   "execution_count": 17,
   "metadata": {},
   "outputs": [],
   "source": [
    "#this is for today\n",
    "response =requests.get(\"http://api.weatherapi.com/v1/astronomy.json?key=1d60958870524489bdc104201211706&q=moscow&dt=2021-06-24\")\n",
    "moondata = response.json()"
   ]
  },
  {
   "cell_type": "code",
   "execution_count": 20,
   "metadata": {},
   "outputs": [
    {
     "name": "stdout",
     "output_type": "stream",
     "text": [
      "100\n"
     ]
    }
   ],
   "source": [
    "print (moondata['astronomy']['astro'][\"moon_illumination\"])"
   ]
  },
  {
   "cell_type": "code",
   "execution_count": 26,
   "metadata": {},
   "outputs": [],
   "source": [
    "#this is for this Wednesday (could not retrieve Thursday as the free version only gives 3 days of forecast data)\n",
    "response =requests.get(\"http://api.weatherapi.com/v1/forecast.json?key=1d60958870524489bdc104201211706&q=moscow&days=4&aqi=no&alerts=no\")\n",
    "future_moondata = response.json()"
   ]
  },
  {
   "cell_type": "code",
   "execution_count": 38,
   "metadata": {},
   "outputs": [
    {
     "name": "stdout",
     "output_type": "stream",
     "text": [
      " Moon visibility this Wednesday is going to be 97%\n"
     ]
    }
   ],
   "source": [
    "for day in future_moondata[\"forecast\"][\"forecastday\"]:\n",
    "    if day['date'] == '2021-06-23':\n",
    "        print (f\" Moon visibility this Wednesday is going to be {day['astro']['moon_illumination']}%\")"
   ]
  },
  {
   "cell_type": "markdown",
   "metadata": {},
   "source": [
    "## 4) What's the difference between the high and low temperatures for today?\n",
    "\n",
    "- *Tip: When you requested moon data, you probably overwrote your variables! If so, you'll need to make a new request.*"
   ]
  },
  {
   "cell_type": "code",
   "execution_count": 37,
   "metadata": {},
   "outputs": [
    {
     "name": "stdout",
     "output_type": "stream",
     "text": [
      " The difference is 9.5 degrees C\n"
     ]
    }
   ],
   "source": [
    "#I only could find the max and min temperatures in the forecast data, not in the current data\n",
    "\n",
    "for day in future_moondata[\"forecast\"][\"forecastday\"]:\n",
    "    if day['date'] == '2021-06-21':\n",
    "        print (f' The difference is {day[\"day\"][\"maxtemp_c\"] - day[\"day\"][\"mintemp_c\"]} degrees C')"
   ]
  },
  {
   "cell_type": "markdown",
   "metadata": {
    "collapsed": true
   },
   "source": [
    "## 4.5) How can you avoid the \"oh no I don't have the data any more because I made another request\" problem in the future?\n",
    "\n",
    "What variable(s) do you have to rename, and what would you rename them?"
   ]
  },
  {
   "cell_type": "code",
   "execution_count": null,
   "metadata": {},
   "outputs": [],
   "source": [
    "#Don't call everything that you request through API \"response\" and \"data\"\n",
    "#I am not sure about the response, but \"data\" should definitely change according to the topic, \n",
    "#like moondata, forecastdata, etc"
   ]
  },
  {
   "cell_type": "markdown",
   "metadata": {},
   "source": [
    "## 5) Go through the daily forecasts, printing out the next week's worth of predictions.\n",
    "\n",
    "I'd like to know the **high temperature** for each day, and whether it's **hot, warm, or cold** (based on what temperatures you think are hot, warm or cold).\n",
    "\n",
    "- *Tip: You'll need to use an `if` statement to say whether it is hot, warm or cold.*"
   ]
  },
  {
   "cell_type": "code",
   "execution_count": 40,
   "metadata": {},
   "outputs": [],
   "source": [
    "hot = 25\n",
    "cold = 15"
   ]
  },
  {
   "cell_type": "code",
   "execution_count": 42,
   "metadata": {},
   "outputs": [],
   "source": [
    "response = requests.get(\"http://api.weatherapi.com/v1/forecast.json?key=1d60958870524489bdc104201211706&q=moscow&days=7&aqi=no&alerts=no\")\n",
    "next_week = response.json()"
   ]
  },
  {
   "cell_type": "code",
   "execution_count": 53,
   "metadata": {},
   "outputs": [
    {
     "name": "stdout",
     "output_type": "stream",
     "text": [
      " High temperature for 2021-06-21 is 30.0 and it is hot\n",
      " High temperature for 2021-06-22 is 33.0 and it is hot\n",
      " High temperature for 2021-06-23 is 33.5 and it is hot\n"
     ]
    }
   ],
   "source": [
    "for day in next_week[\"forecast\"][\"forecastday\"]:\n",
    "    if day[\"day\"][\"maxtemp_c\"] > hot:\n",
    "        print (f' High temperature for {day[\"date\"]} is {day[\"day\"][\"maxtemp_c\"]} and it is hot')\n",
    "    elif day[\"day\"][\"maxtemp_c\"] < cold:\n",
    "        print (f' High temperature for {day[\"date\"]} is {day[\"day\"][\"maxtemp_c\"]} and it is cold')\n",
    "    else:\n",
    "        print (f' High temperature for {day[\"date\"]} is {day[\"day\"][\"maxtemp_c\"]} and it is warm')"
   ]
  },
  {
   "cell_type": "markdown",
   "metadata": {},
   "source": [
    "# 6) What will be the hottest day in the next week? What is the high temperature on that day?"
   ]
  },
  {
   "cell_type": "code",
   "execution_count": 58,
   "metadata": {},
   "outputs": [
    {
     "name": "stdout",
     "output_type": "stream",
     "text": [
      " The hottest day will be 2021-06-23 and the temperature will be 33.5\n"
     ]
    }
   ],
   "source": [
    "hot_day = 0\n",
    "for forecastday in next_week[\"forecast\"][\"forecastday\"]:\n",
    "    if hot_day < forecastday['day']['maxtemp_c']:\n",
    "        hot_day = forecastday['day']['maxtemp_c']\n",
    "for forecastday in next_week[\"forecast\"]['forecastday']:\n",
    "    if hot_day == forecastday['day']['maxtemp_c']:\n",
    "        print(f' The hottest day will be {forecastday[\"date\"]} and the temperature will be {forecastday[\"day\"][\"maxtemp_c\"]}')"
   ]
  },
  {
   "cell_type": "markdown",
   "metadata": {},
   "source": [
    "## 7) What's the weather looking like for the next 24+ hours in Miami, Florida?\n",
    "\n",
    "I'd like to know the temperature for every hour, and if it's going to have cloud cover of more than 50% say \"{temperature} and cloudy\" instead of just the temperature. \n",
    "\n",
    "- *Tip: You'll only need one day of forecast*"
   ]
  },
  {
   "cell_type": "code",
   "execution_count": 45,
   "metadata": {},
   "outputs": [
    {
     "name": "stdout",
     "output_type": "stream",
     "text": [
      "dict_keys(['location', 'current', 'forecast'])\n"
     ]
    }
   ],
   "source": [
    "response = requests.get(\"http://api.weatherapi.com/v1/forecast.json?key=1d60958870524489bdc104201211706&q=Miami&days=1&aqi=no&alerts=no\")\n",
    "miami = response.json()\n",
    "print (miami.keys())"
   ]
  },
  {
   "cell_type": "code",
   "execution_count": 78,
   "metadata": {},
   "outputs": [
    {
     "name": "stdout",
     "output_type": "stream",
     "text": [
      " The temperature is  28.6\n",
      "and cloudy\n",
      " The temperature is  28.8\n",
      " The temperature is  28.9\n",
      " The temperature is  28.7\n",
      " The temperature is  28.6\n",
      " The temperature is  28.4\n",
      " The temperature is  28.5\n",
      " The temperature is  28.5\n",
      "and cloudy\n",
      " The temperature is  28.6\n",
      "and cloudy\n",
      " The temperature is  28.8\n",
      "and cloudy\n",
      " The temperature is  29.1\n",
      "and cloudy\n",
      " The temperature is  29.3\n",
      "and cloudy\n",
      " The temperature is  29.4\n",
      "and cloudy\n",
      " The temperature is  29.6\n",
      "and cloudy\n",
      " The temperature is  29.7\n",
      "and cloudy\n",
      " The temperature is  29.7\n",
      "and cloudy\n",
      " The temperature is  29.6\n",
      "and cloudy\n",
      " The temperature is  29.6\n",
      "and cloudy\n",
      " The temperature is  28.9\n",
      "and cloudy\n",
      " The temperature is  28.3\n",
      "and cloudy\n",
      " The temperature is  27.6\n",
      "and cloudy\n",
      " The temperature is  27.0\n",
      "and cloudy\n",
      " The temperature is  26.4\n",
      "and cloudy\n",
      " The temperature is  25.8\n",
      "and cloudy\n"
     ]
    }
   ],
   "source": [
    "for data in miami['forecast']['forecastday']:\n",
    "    #print (hour.keys())\n",
    "    for hour in data['hour']:\n",
    "        #print (hour['time'])\n",
    "        print (f' The temperature is  {hour[\"temp_c\"]}')\n",
    "        if hour[\"cloud\"] > 50:\n",
    "            print (\"and cloudy\")"
   ]
  },
  {
   "cell_type": "markdown",
   "metadata": {},
   "source": [
    "# 8) For the next 24-ish hours in Miami, what percent of the time is the temperature above 85 degrees?\n",
    "\n",
    "- *Tip: You might want to read up on [looping patterns](http://jonathansoma.com/lede/foundations-2017/classes/data%20structures/looping-patterns/)*"
   ]
  },
  {
   "cell_type": "code",
   "execution_count": 76,
   "metadata": {},
   "outputs": [],
   "source": [
    "above_85 = 0"
   ]
  },
  {
   "cell_type": "code",
   "execution_count": 77,
   "metadata": {},
   "outputs": [
    {
     "name": "stdout",
     "output_type": "stream",
     "text": [
      " Roughly 21% of the time, the temperature was above 85 degress F\n"
     ]
    }
   ],
   "source": [
    "for data in miami['forecast']['forecastday']:\n",
    "    for hour in data['hour']:\n",
    "        if hour[\"temp_f\"] > 85:\n",
    "            above_85 = above_85+1\n",
    "print (f' Roughly {round(above_85/24*100)}% of the time, the temperature was above 85 degress F')"
   ]
  },
  {
   "cell_type": "code",
   "execution_count": null,
   "metadata": {},
   "outputs": [],
   "source": [
    "#if I happen to run the cell above more than once, it doubles the count - have to be careful"
   ]
  },
  {
   "cell_type": "markdown",
   "metadata": {},
   "source": [
    "## 9) What was the temperature in Central Park on Christmas Day, 2020? How about 2012? 2007? How far back does the API allow you to go?\n",
    "\n",
    "- *Tip: You'll need to use latitude/longitude. You can ask Google where Central Park is, it knows*\n",
    "- *Tip: Remember when latitude/longitude might use negative numbers*"
   ]
  },
  {
   "cell_type": "code",
   "execution_count": 79,
   "metadata": {},
   "outputs": [],
   "source": [
    "!touch .env"
   ]
  },
  {
   "cell_type": "code",
   "execution_count": null,
   "metadata": {
    "collapsed": true
   },
   "outputs": [],
   "source": []
  },
  {
   "cell_type": "code",
   "execution_count": null,
   "metadata": {
    "collapsed": true
   },
   "outputs": [],
   "source": []
  }
 ],
 "metadata": {
  "kernelspec": {
   "display_name": "Python 3",
   "language": "python",
   "name": "python3"
  },
  "language_info": {
   "codemirror_mode": {
    "name": "ipython",
    "version": 3
   },
   "file_extension": ".py",
   "mimetype": "text/x-python",
   "name": "python",
   "nbconvert_exporter": "python",
   "pygments_lexer": "ipython3",
   "version": "3.8.3"
  }
 },
 "nbformat": 4,
 "nbformat_minor": 1
}
